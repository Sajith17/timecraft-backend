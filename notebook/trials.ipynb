{
 "cells": [
  {
   "cell_type": "code",
   "execution_count": 3,
   "metadata": {},
   "outputs": [],
   "source": [
    "from enum import Enum\n",
    "import json\n",
    "from typing import Optional, List\n",
    "from dataclasses import dataclass\n",
    "class CourseType(Enum):\n",
    "    CORE = \"Core\"\n",
    "    ELECTIVE = \"Elective\"\n",
    "    SHARED = \"Shared\""
   ]
  },
  {
   "cell_type": "code",
   "execution_count": null,
   "metadata": {},
   "outputs": [],
   "source": [
    "#d18b86f51afd9f7f48d3941ac401bbf1"
   ]
  },
  {
   "cell_type": "code",
   "execution_count": 28,
   "metadata": {},
   "outputs": [],
   "source": [
    "class Course:\n",
    "    def __init__(self, name: str, courseType: CourseType, type : Optional[int] = None):\n",
    "        self.name = name\n",
    "        self.courseType = courseType\n",
    "        self.type = type\n",
    "    @classmethod\n",
    "    def from_json(cls, json_string):\n",
    "        json_dict = json.loads(json_string)\n",
    "        return cls(**json_dict)\n",
    "    "
   ]
  },
  {
   "cell_type": "code",
   "execution_count": 46,
   "metadata": {},
   "outputs": [],
   "source": [
    "class Event:\n",
    "    def __init__(self, name: str, group : Optional[str] = None):\n",
    "        self.name = name\n",
    "        self.group = group"
   ]
  },
  {
   "cell_type": "code",
   "execution_count": 47,
   "metadata": {},
   "outputs": [
    {
     "ename": "TypeError",
     "evalue": "cannot unpack non-iterable Event object",
     "output_type": "error",
     "traceback": [
      "\u001b[1;31m---------------------------------------------------------------------------\u001b[0m",
      "\u001b[1;31mTypeError\u001b[0m                                 Traceback (most recent call last)",
      "Cell \u001b[1;32mIn[47], line 1\u001b[0m\n\u001b[1;32m----> 1\u001b[0m name, group \u001b[38;5;241m=\u001b[39m Event(name\u001b[38;5;241m=\u001b[39m\u001b[38;5;124m\"\u001b[39m\u001b[38;5;124mhello\u001b[39m\u001b[38;5;124m\"\u001b[39m)\n\u001b[0;32m      2\u001b[0m \u001b[38;5;28mprint\u001b[39m(name,group)\n",
      "\u001b[1;31mTypeError\u001b[0m: cannot unpack non-iterable Event object"
     ]
    }
   ],
   "source": [
    "name, group = Event(name=\"hello\")\n",
    "print(name,group)"
   ]
  },
  {
   "cell_type": "code",
   "execution_count": 35,
   "metadata": {},
   "outputs": [
    {
     "data": {
      "text/plain": [
       "True"
      ]
     },
     "execution_count": 35,
     "metadata": {},
     "output_type": "execute_result"
    }
   ],
   "source": [
    "json_string = \"\"\"{\n",
    "    \"name\": \"Python\",\n",
    "    \"courseType\": \"Core\",\n",
    "    \"type\": 1\n",
    "}\"\"\"\n",
    "\n",
    "\n",
    "course = Course.from_json(json_string)\n",
    "bool(course.type)\n"
   ]
  },
  {
   "cell_type": "code",
   "execution_count": 50,
   "metadata": {},
   "outputs": [
    {
     "ename": "NameError",
     "evalue": "name 'Faculty' is not defined",
     "output_type": "error",
     "traceback": [
      "\u001b[1;31m---------------------------------------------------------------------------\u001b[0m",
      "\u001b[1;31mNameError\u001b[0m                                 Traceback (most recent call last)",
      "Cell \u001b[1;32mIn[50], line 2\u001b[0m\n\u001b[0;32m      1\u001b[0m \u001b[38;5;129;43m@dataclass\u001b[39;49m\n\u001b[1;32m----> 2\u001b[0m \u001b[38;5;28;43;01mclass\u001b[39;49;00m\u001b[43m \u001b[49m\u001b[38;5;21;43;01mEvent\u001b[39;49;00m\u001b[43m:\u001b[49m\n\u001b[0;32m      3\u001b[0m \u001b[43m    \u001b[49m\u001b[43mcourses\u001b[49m\u001b[43m:\u001b[49m\u001b[43m \u001b[49m\u001b[43mList\u001b[49m\u001b[43m[\u001b[49m\u001b[43mCourse\u001b[49m\u001b[43m]\u001b[49m\n\u001b[0;32m      4\u001b[0m \u001b[43m    \u001b[49m\u001b[43mfaculties\u001b[49m\u001b[43m:\u001b[49m\u001b[43m \u001b[49m\u001b[43mList\u001b[49m\u001b[43m[\u001b[49m\u001b[43mFaculty\u001b[49m\u001b[43m]\u001b[49m\n",
      "Cell \u001b[1;32mIn[50], line 4\u001b[0m, in \u001b[0;36mEvent\u001b[1;34m()\u001b[0m\n\u001b[0;32m      1\u001b[0m \u001b[38;5;129m@dataclass\u001b[39m\n\u001b[0;32m      2\u001b[0m \u001b[38;5;28;01mclass\u001b[39;00m \u001b[38;5;21;01mEvent\u001b[39;00m:\n\u001b[0;32m      3\u001b[0m     courses: List[Course]\n\u001b[1;32m----> 4\u001b[0m     faculties: List[\u001b[43mFaculty\u001b[49m]\n\u001b[0;32m      5\u001b[0m     hours: \u001b[38;5;28mint\u001b[39m\n\u001b[0;32m      6\u001b[0m     fixedHours: Optional[List[\u001b[38;5;28mint\u001b[39m]] \u001b[38;5;241m=\u001b[39m \u001b[38;5;28;01mNone\u001b[39;00m\n",
      "\u001b[1;31mNameError\u001b[0m: name 'Faculty' is not defined"
     ]
    }
   ],
   "source": [
    "@dataclass\n",
    "class Event:\n",
    "    courses: List[Course]\n",
    "    faculties: List[Faculty]\n",
    "    hours: int\n",
    "    fixedHours: Optional[List[int]] = None\n",
    "    studentGroup: str"
   ]
  },
  {
   "cell_type": "code",
   "execution_count": 4,
   "metadata": {},
   "outputs": [],
   "source": [
    "@dataclass\n",
    "class event:\n",
    "    name: str\n",
    "    group: Optional[List[int]] = None"
   ]
  },
  {
   "cell_type": "code",
   "execution_count": 6,
   "metadata": {},
   "outputs": [
    {
     "data": {
      "text/plain": [
       "event(name='name1', group=None)"
      ]
     },
     "execution_count": 6,
     "metadata": {},
     "output_type": "execute_result"
    }
   ],
   "source": [
    "d = {'name':'name1'}\n",
    "event(**d)"
   ]
  },
  {
   "cell_type": "code",
   "execution_count": 2,
   "metadata": {},
   "outputs": [
    {
     "data": {
      "text/plain": [
       "Counter({1: 3, 2: 2})"
      ]
     },
     "execution_count": 2,
     "metadata": {},
     "output_type": "execute_result"
    }
   ],
   "source": [
    "from collections import Counter\n",
    "Counter([1, 1, 1,2 ,2])"
   ]
  },
  {
   "cell_type": "code",
   "execution_count": 5,
   "metadata": {},
   "outputs": [
    {
     "ename": "ValueError",
     "evalue": "Cant find a feasible solution for event creation",
     "output_type": "error",
     "traceback": [
      "\u001b[1;31m---------------------------------------------------------------------------\u001b[0m",
      "\u001b[1;31mValueError\u001b[0m                                Traceback (most recent call last)",
      "Cell \u001b[1;32mIn[5], line 2\u001b[0m\n\u001b[0;32m      1\u001b[0m \u001b[38;5;28;01mif\u001b[39;00m \u001b[38;5;241m1\u001b[39m\u001b[38;5;241m==\u001b[39m\u001b[38;5;241m1\u001b[39m:\n\u001b[1;32m----> 2\u001b[0m     \u001b[38;5;28;01mraise\u001b[39;00m \u001b[38;5;167;01mValueError\u001b[39;00m(\u001b[38;5;124m\"\u001b[39m\u001b[38;5;124mCant find a feasible solution for event creation\u001b[39m\u001b[38;5;124m\"\u001b[39m)\n",
      "\u001b[1;31mValueError\u001b[0m: Cant find a feasible solution for event creation"
     ]
    }
   ],
   "source": [
    "if 1==1:\n",
    "    raise ValueError(\"Cant find a feasible solution for event creation\")"
   ]
  },
  {
   "cell_type": "code",
   "execution_count": 11,
   "metadata": {},
   "outputs": [],
   "source": [
    "@dataclass\n",
    "class Name:\n",
    "    first: str\n",
    "    last: str\n",
    "\n",
    "    def concat(a,b)->list['Name']:\n",
    "        name1 = Name(a,b)\n",
    "        return [name1 for i in range(0,10)]\n"
   ]
  },
  {
   "cell_type": "code",
   "execution_count": 13,
   "metadata": {},
   "outputs": [
    {
     "data": {
      "text/plain": [
       "__main__.Name"
      ]
     },
     "execution_count": 13,
     "metadata": {},
     "output_type": "execute_result"
    }
   ],
   "source": [
    "type(Name.concat('hello','world')[0])"
   ]
  },
  {
   "cell_type": "code",
   "execution_count": 65,
   "metadata": {},
   "outputs": [
    {
     "data": {
      "text/plain": [
       "'hello__guys'"
      ]
     },
     "execution_count": 65,
     "metadata": {},
     "output_type": "execute_result"
    }
   ],
   "source": [
    "getattr(stringcase, \"snakecase\")(\"Hello Guys\")"
   ]
  },
  {
   "cell_type": "code",
   "execution_count": 10,
   "metadata": {},
   "outputs": [
    {
     "data": {
      "text/plain": [
       "types.GenericAlias"
      ]
     },
     "execution_count": 10,
     "metadata": {},
     "output_type": "execute_result"
    }
   ],
   "source": [
    "type(list['hello'])"
   ]
  },
  {
   "cell_type": "code",
   "execution_count": 21,
   "metadata": {},
   "outputs": [
    {
     "ename": "ModuleNotFoundError",
     "evalue": "No module named 'src'",
     "output_type": "error",
     "traceback": [
      "\u001b[1;31m---------------------------------------------------------------------------\u001b[0m",
      "\u001b[1;31mModuleNotFoundError\u001b[0m                       Traceback (most recent call last)",
      "Cell \u001b[1;32mIn[21], line 1\u001b[0m\n\u001b[1;32m----> 1\u001b[0m \u001b[38;5;28;01mfrom\u001b[39;00m \u001b[38;5;21;01msrc\u001b[39;00m\u001b[38;5;21;01m.\u001b[39;00m\u001b[38;5;21;01mtimecraft\u001b[39;00m\u001b[38;5;21;01m.\u001b[39;00m\u001b[38;5;21;01mutils\u001b[39;00m \u001b[38;5;28;01mimport\u001b[39;00m convert_keys\n",
      "\u001b[1;31mModuleNotFoundError\u001b[0m: No module named 'src'"
     ]
    }
   ],
   "source": [
    "from src.timecraft.utils import convert_keys"
   ]
  },
  {
   "cell_type": "code",
   "execution_count": 1,
   "metadata": {},
   "outputs": [
    {
     "data": {
      "text/plain": [
       "{1, 2}"
      ]
     },
     "execution_count": 1,
     "metadata": {},
     "output_type": "execute_result"
    }
   ],
   "source": [
    "set(x for x in [1,1,1,1,2])"
   ]
  },
  {
   "cell_type": "code",
   "execution_count": null,
   "metadata": {},
   "outputs": [],
   "source": [
    "data_helper = DataHelper(events)\n",
    "constraints = [Constraints1(), Constaints2(), Constraints3()]\n",
    "fitness_evaluator = FitnessEvaluator(data_helper, constraints)\n",
    "population = Population(data_helper)\n",
    "genetic_algorithm = GeneticAlgorithm(data_helper, population, fitness_evaluator, mutation_rate=0.1, crossover_rate=0.9)\n",
    "final_timetable = genetic_algorithm.run_evolution(population_size=100, generation_limit=100, fitness_limit=1)"
   ]
  },
  {
   "cell_type": "code",
   "execution_count": null,
   "metadata": {},
   "outputs": [],
   "source": [
    "'''This is in constraint.py'''\n",
    "from abc import ABC, abstractmethod\n",
    "class Constraint(ABC):\n",
    "    def __init__(self, constraint_type: str):\n",
    "        self.constraint_type = constraint_type\n",
    "    @abstractmethod\n",
    "    def get_fitness_score():\n",
    "        pass\n",
    "\n",
    "class Constraint1(Constraint):\n",
    "    def __init__(self, datahelper):\n",
    "        super.__init__(constraint_type=\"hard\")\n",
    "        ''' here the necessary helper variable are obtained by using .variable from the datahelper where the nedded variable differ from constraints '''\n",
    "    def get_fitness_score(self) -> float:\n",
    "        ''' the calculation is done for constraint 1'''\n",
    "    def validate(self) -> bool:\n",
    "        '''validates constraint 2'''\n",
    "\n",
    "class Constraint2(Constraint):\n",
    "    def __init__(self, datahelper):\n",
    "        super.__init__(constraint_type=\"soft\")\n",
    "        ''' here the necessary helper variable are obtained by using .variable from the datahelper where the nedded variable differ from constraints '''\n",
    "    def get_fitness_score(self) -> float:\n",
    "        ''' the calculation is done for constraint 2'''\n",
    "    def validate(self) -> bool:\n",
    "        '''validates constraint 2'''\n",
    "\n",
    "class FitnessEvaluator:\n",
    "    def __init__(self, constraints: list[Constraint]):\n",
    "        self.constraints = constraints\n",
    "    \n",
    "    def get_overall_fitness_score(self) -> float:\n",
    "        return sum(constraint.get_fitness_score() for constraint in self.constraints)\n",
    "    \n",
    "    def get_overall_validation(self) -> bool:\n",
    "        return all(Constraint.validate() for constraint in self.constraints)\n",
    "\n",
    "\n",
    "'''This code is in seperate py file'''\n",
    "\n",
    "\n",
    "import DataHelper\n",
    "\n",
    "data_helper = DataHelper(events)\n",
    "constraints = [Constraint1(data_helper), Constraint2(data_helper)]\n",
    "fitness_evaluator = FitnessEvaluator(constraints)\n",
    "fitness_score = fitness_evaluator.get_overall_fitness_score()"
   ]
  },
  {
   "cell_type": "code",
   "execution_count": null,
   "metadata": {},
   "outputs": [],
   "source": [
    "'''This is in constraint.py'''\n",
    "from abc import ABC, abstractmethod\n",
    "class Constraint(ABC):\n",
    "    def __init__(self, constraint_type: str):\n",
    "        self.constraint_type = constraint_type\n",
    "    @abstractmethod\n",
    "    def get_fitness_score():\n",
    "        pass\n",
    "\n",
    "    @abstractmethod\n",
    "    def validate():\n",
    "        pass\n",
    "\n",
    "class Constraint1(Constraint):\n",
    "    def __init__(self):\n",
    "        super.__init__(constraint_type=\"hard\")\n",
    "    def get_fitness_score(self, data_helper) -> float:\n",
    "        ''' the calculation is done for constraint 1 using datahelper object'''\n",
    "    def validate(self, datahelper) -> bool:\n",
    "        '''validate constraint 1'''\n",
    "\n",
    "class Constraint2(Constraint):\n",
    "    def __init__(self, datahelper):\n",
    "        super.__init__(constraint_type=\"soft\")\n",
    "        ''' here the necessary helper variable are obtained by using .variable from the datahelper where the nedded variable differ from constraints '''\n",
    "    def get_fitness_score(self, data_helper) -> float:\n",
    "        ''' the calculation is done for constraint 2 using datahelper object'''\n",
    "    def validate(self, data_helper) -> bool:\n",
    "        '''validates constraint 2'''\n",
    "\n",
    "class FitnessEvaluator:\n",
    "    def __init__(self, constraints: list[Constraint]):\n",
    "        self.constraints = constraints\n",
    "    \n",
    "    def get_overall_fitness_score(self, data_helper) -> float:\n",
    "        return sum(constraint.get_fitness_score(data_helper) for constraint in self.constraints)\n",
    "    \n",
    "    def get_overall_validation(self, data_helper) -> float:\n",
    "        return all(Constraint.validate(data_helper) for constraint in self.constraints)\n",
    "\n",
    "\n",
    "'''This code is in seperate py file'''\n",
    "\n",
    "\n",
    "import DataHelper\n",
    "\n",
    "data_helper = DataHelper(events)\n",
    "constraints = [Constraint1(), Constraint2()]\n",
    "fitness_evaluator = FitnessEvaluator(constraints)\n",
    "fitness_score = fitness_evaluator.get_overall_fitness_score(data_helper)"
   ]
  },
  {
   "cell_type": "code",
   "execution_count": 21,
   "metadata": {},
   "outputs": [
    {
     "data": {
      "text/plain": [
       "array([[1, 2, 3],\n",
       "       [4, 1, 6],\n",
       "       [7, 8, 1]])"
      ]
     },
     "execution_count": 21,
     "metadata": {},
     "output_type": "execute_result"
    }
   ],
   "source": [
    "import numpy as np\n",
    "\n",
    "x = np.array([[0,2,3],[4,0,6],[7,8,0]])\n",
    "y = np.array([[1,1,1]])\n",
    "1-np.minimum(x,1)+x"
   ]
  },
  {
   "cell_type": "code",
   "execution_count": 28,
   "metadata": {},
   "outputs": [
    {
     "ename": "KeyError",
     "evalue": "'key'",
     "output_type": "error",
     "traceback": [
      "\u001b[1;31m---------------------------------------------------------------------------\u001b[0m",
      "\u001b[1;31mKeyError\u001b[0m                                  Traceback (most recent call last)",
      "Cell \u001b[1;32mIn[28], line 2\u001b[0m\n\u001b[0;32m      1\u001b[0m target \u001b[38;5;241m=\u001b[39m {}\n\u001b[1;32m----> 2\u001b[0m \u001b[38;5;28;01mif\u001b[39;00m \u001b[43mtarget\u001b[49m\u001b[43m[\u001b[49m\u001b[38;5;124;43m'\u001b[39;49m\u001b[38;5;124;43mkey\u001b[39;49m\u001b[38;5;124;43m'\u001b[39;49m\u001b[43m]\u001b[49m \u001b[38;5;241m==\u001b[39m \u001b[38;5;124m'\u001b[39m\u001b[38;5;124mvalue\u001b[39m\u001b[38;5;124m'\u001b[39m:\n\u001b[0;32m      3\u001b[0m     \u001b[38;5;28mprint\u001b[39m(\u001b[38;5;124m'\u001b[39m\u001b[38;5;124mhi\u001b[39m\u001b[38;5;124m'\u001b[39m)\n",
      "\u001b[1;31mKeyError\u001b[0m: 'key'"
     ]
    }
   ],
   "source": [
    "target = {}\n",
    "if target['key'] == 'value':\n",
    "    print('hi')"
   ]
  },
  {
   "cell_type": "code",
   "execution_count": 4,
   "metadata": {},
   "outputs": [],
   "source": [
    "import numpy as np\n",
    "def permute_with_frequencies(elements, frequencies):\n",
    "  \"\"\"\n",
    "  Generates a permutation of elements with specified frequencies.\n",
    "\n",
    "  Args:\n",
    "    elements: A list of elements.\n",
    "    frequencies: A list of corresponding frequencies for each element.\n",
    "\n",
    "  Returns:\n",
    "    A NumPy array representing a single permutation with the specified frequencies.\n",
    "  \"\"\"\n",
    "\n",
    "  # Flatten frequencies and elements if needed\n",
    "  frequencies = np.array(frequencies).flatten()\n",
    "  elements = np.array(elements).flatten()\n",
    "\n",
    "  # Create a repeated array of elements based on their frequencies\n",
    "  repeated_elements = np.repeat(elements, frequencies)\n",
    "\n",
    "  # Shuffle the repeated elements\n",
    "  np.random.shuffle(repeated_elements)\n",
    "\n",
    "  return repeated_elements"
   ]
  },
  {
   "cell_type": "code",
   "execution_count": 6,
   "metadata": {},
   "outputs": [
    {
     "data": {
      "text/plain": [
       "array([Class(course=Course(code='CS101', faculties=[Faculty(code='CS1', name='Computer Science', occupied_slots=None), Faculty(code='CS2', name='Computer Science', occupied_slots=None)], no_hours=6, student_group='A', name='Computer Science 1', hours_distribution=[4, 2]), faculties=[Faculty(code='CS1', name='Computer Science', occupied_slots=None)]),\n",
       "       Class(course=Course(code='CS101', faculties=[Faculty(code='CS1', name='Computer Science', occupied_slots=None), Faculty(code='CS2', name='Computer Science', occupied_slots=None)], no_hours=6, student_group='A', name='Computer Science 1', hours_distribution=[4, 2]), faculties=[Faculty(code='CS2', name='Computer Science', occupied_slots=None)]),\n",
       "       Class(course=Course(code='CS101', faculties=[Faculty(code='CS1', name='Computer Science', occupied_slots=None), Faculty(code='CS2', name='Computer Science', occupied_slots=None)], no_hours=6, student_group='A', name='Computer Science 1', hours_distribution=[4, 2]), faculties=[Faculty(code='CS2', name='Computer Science', occupied_slots=None)])],\n",
       "      dtype=object)"
      ]
     },
     "execution_count": 6,
     "metadata": {},
     "output_type": "execute_result"
    }
   ],
   "source": [
    "from src.timecraft.models import Class, Course, Faculty\n",
    "course = Course(\n",
    "            code=\"CS101\",\n",
    "            name=\"Computer Science 1\",\n",
    "            no_hours=6,\n",
    "            student_group=\"A\",\n",
    "            faculties=[\n",
    "                Faculty(code=\"CS1\", name=\"Computer Science\"),\n",
    "                Faculty(code=\"CS2\", name=\"Computer Science\"),\n",
    "            ],\n",
    "            hours_distribution=[4, 2],\n",
    "        )\n",
    "cls1 = Class(course=course, faculties=[course.faculties[0]])\n",
    "cls2 = Class(course=course, faculties=[course.faculties[1]])\n",
    "\n",
    "permute_with_frequencies([cls1, cls2],[1,2])"
   ]
  },
  {
   "cell_type": "code",
   "execution_count": 8,
   "metadata": {},
   "outputs": [
    {
     "data": {
      "text/plain": [
       "True"
      ]
     },
     "execution_count": 8,
     "metadata": {},
     "output_type": "execute_result"
    }
   ],
   "source": [
    "from enum import Enum\n",
    "\n",
    "class CourseType(Enum):\n",
    "    CORE = \"Core\"\n",
    "    ELECTIVE = \"Elective\"\n",
    "\n",
    "CourseType(\"Core\") == CourseType.CORE"
   ]
  },
  {
   "cell_type": "code",
   "execution_count": 9,
   "metadata": {},
   "outputs": [],
   "source": [
    "class F:\n",
    "    class CourseType(Enum):\n",
    "        CORE = \"Core\"\n",
    "        ELECTIVE = \"Elective\""
   ]
  },
  {
   "cell_type": "code",
   "execution_count": 12,
   "metadata": {},
   "outputs": [
    {
     "data": {
      "text/plain": [
       "<CourseType.CORE: 'Core'>"
      ]
     },
     "execution_count": 12,
     "metadata": {},
     "output_type": "execute_result"
    }
   ],
   "source": [
    "f1 = F()\n",
    "f1.CourseType.CORE"
   ]
  },
  {
   "cell_type": "code",
   "execution_count": 21,
   "metadata": {},
   "outputs": [
    {
     "data": {
      "text/plain": [
       "(['b', 'a'], ['a', 'b'], {'a': 10, 'b': 11}, {'b': 11, 'a': 10})"
      ]
     },
     "execution_count": 21,
     "metadata": {},
     "output_type": "execute_result"
    }
   ],
   "source": [
    "a1 = {}\n",
    "a2 = {}\n",
    "a1['a']=10\n",
    "a2['b']=11\n",
    "a1['b']=11\n",
    "a2['a']=10\n",
    "sorted(a1, key=lambda x: a1[x], reverse=True),sorted(a2),a1,a2\n"
   ]
  },
  {
   "cell_type": "code",
   "execution_count": 22,
   "metadata": {},
   "outputs": [
    {
     "data": {
      "text/plain": [
       "dict_values([3, 2, 1])"
      ]
     },
     "execution_count": 22,
     "metadata": {},
     "output_type": "execute_result"
    }
   ],
   "source": [
    "from collections import Counter\n",
    "Counter([1,1,1,2,2,3]).values()"
   ]
  },
  {
   "cell_type": "code",
   "execution_count": 23,
   "metadata": {},
   "outputs": [
    {
     "name": "stdout",
     "output_type": "stream",
     "text": [
      "1 1 1\n",
      "2 2 2\n",
      "3 3 3\n"
     ]
    }
   ],
   "source": [
    "a = [1,2,3]\n",
    "for i,j,k in zip(a,a,a):\n",
    "    print(i,j,k)"
   ]
  },
  {
   "cell_type": "code",
   "execution_count": 1,
   "metadata": {},
   "outputs": [],
   "source": [
    "array = [[21, 19, 23, 21, 23, 23, 21, 10, 20,  0, 20, 19, 23,  0,  0, 23,\n",
    "                                        19, 21, 10, 19,  0, 21, 19, 10, 20, 21,  0, 19, 23,  0],\n",
    "                                       [17, 15, 18,  6, 12, 12,  6,  8, 11, 17, 11,  7,  9,  8,  6, 18,\n",
    "                                        16,  9, 16,  8, 17, 15,  7,  6, 11, 15, 15,  7,  6, 17],\n",
    "                                       [13,  2,  1,  4, 14, 13,  4,  1,  5, 14, 14,  4,  1, 13,  2, 13,\n",
    "                                         4,  1,  5, 14, 13, 14,  3,  3,  1, 14,  2,  1, 13,  5]]"
   ]
  },
  {
   "cell_type": "code",
   "execution_count": 18,
   "metadata": {},
   "outputs": [],
   "source": [
    "from pylab import plot, show, legend, axis, barh, bar\n",
    "nyc_temp_2000 = [31.3, 37.3, 47.2, 51.0, 63.5, 71.3, 72.3, 72.7, 66.0, 57.0, 45.3, 31.1]\n",
    "nyc_temp_2006 = [40.9, 35.7, 43.1, 55.7, 63.1, 71.0, 77.9, 75.8, 66.6, 56.2, 51.9, 43.6]\n",
    "nyc_temp_2012 = [37.3, 40.9, 50.9, 54.8, 65.1, 71.0, 78.8, 76.7, 68.8, 58.0, 43.9, 41.5]\n",
    "months = range(1,len(nyc_temp_2000)+1)"
   ]
  },
  {
   "cell_type": "code",
   "execution_count": 15,
   "metadata": {},
   "outputs": [
    {
     "data": {
      "text/plain": [
       "(0.0, 100.0, 0.0, 100.0)"
      ]
     },
     "execution_count": 15,
     "metadata": {},
     "output_type": "execute_result"
    },
    {
     "data": {
      "image/png": "[encoded data removed]",
      "text/plain": [
       "<Figure size 640x480 with 1 Axes>"
      ]
     },
     "metadata": {},
     "output_type": "display_data"
    }
   ],
   "source": [
    "plot(months,nyc_temp_2000,months,nyc_temp_2006,months,nyc_temp_2012)\n",
    "legend([2000,2006,2012])\n",
    "axis([0,100,0,100])"
   ]
  },
  {
   "cell_type": "code",
   "execution_count": null,
   "metadata": {},
   "outputs": [],
   "source": []
  },
  {
   "cell_type": "code",
   "execution_count": 74,
   "metadata": {},
   "outputs": [],
   "source": [
    "from sympy import Symbol, pprint, sympify, solve, factor"
   ]
  },
  {
   "cell_type": "code",
   "execution_count": 56,
   "metadata": {},
   "outputs": [
    {
     "data": {
      "text/latex": [
       "$\\displaystyle \\left(y + 17\\right)^{2} - 1$"
      ],
      "text/plain": [
       "(y + 17)**2 - 1"
      ]
     },
     "execution_count": 56,
     "metadata": {},
     "output_type": "execute_result"
    }
   ],
   "source": [
    "x = Symbol('x')\n",
    "y = Symbol('y')\n",
    "expr = x**2+x-1-x\n",
    "expr.subs({x:(y+17)})"
   ]
  },
  {
   "cell_type": "code",
   "execution_count": 7,
   "metadata": {},
   "outputs": [
    {
     "data": {
      "text/plain": [
       "1"
      ]
     },
     "execution_count": 7,
     "metadata": {},
     "output_type": "execute_result"
    }
   ],
   "source": [
    "d = {'a':1}\n",
    "d.get('a')"
   ]
  },
  {
   "cell_type": "code",
   "execution_count": 3,
   "metadata": {},
   "outputs": [
    {
     "name": "stderr",
     "output_type": "stream",
     "text": [
      "MovieWriter ffmpeg unavailable; using Pillow instead.\n"
     ]
    },
    {
     "data": {
      "image/png": "[encoded data removed]",
      "text/plain": [
       "<Figure size 640x480 with 1 Axes>"
      ]
     },
     "metadata": {},
     "output_type": "display_data"
    }
   ],
   "source": [
    "import matplotlib.animation as animation \n",
    "import matplotlib.pyplot as plt \n",
    "import numpy as np \n",
    " \n",
    " \n",
    "# creating a blank window \n",
    "# for the animation \n",
    "fig = plt.figure() \n",
    "axis = plt.axes(xlim =(-50, 50), \n",
    "                ylim =(-50, 50)) \n",
    " \n",
    "line, = axis.plot([], [], lw = 2) \n",
    " \n",
    "# what will our line dataset \n",
    "# contain? \n",
    "def init(): \n",
    "    line.set_data([], []) \n",
    "    return line, \n",
    " \n",
    "# initializing empty values \n",
    "# for x and y co-ordinates \n",
    "xdata, ydata = [], [] \n",
    " \n",
    "# animation function \n",
    "def animate(i): \n",
    "    # t is a parameter which varies \n",
    "    # with the frame number \n",
    "    t = 0.1 * i \n",
    "     \n",
    "    # x, y values to be plotted \n",
    "    x = t * np.sin(t) \n",
    "    y = t * np.cos(t) \n",
    "     \n",
    "    # appending values to the previously \n",
    "    # empty x and y data holders \n",
    "    xdata.append(x) \n",
    "    ydata.append(y) \n",
    "    line.set_data(xdata, ydata) \n",
    "     \n",
    "    return line, \n",
    " \n",
    "# calling the animation function     \n",
    "anim = animation.FuncAnimation(fig, animate, \n",
    "                            init_func = init, \n",
    "                            frames = 500,\n",
    "                            interval = 20, \n",
    "                            blit = True) \n",
    " \n",
    "# saves the animation in our desktop \n",
    "anim.save('growingCoil.gif', writer = None, fps = 30) "
   ]
  }
 ],
 "metadata": {
  "kernelspec": {
   "display_name": "Python 3",
   "language": "python",
   "name": "python3"
  },
  "language_info": {
   "codemirror_mode": {
    "name": "ipython",
    "version": 3
   },
   "file_extension": ".py",
   "mimetype": "text/x-python",
   "name": "python",
   "nbconvert_exporter": "python",
   "pygments_lexer": "ipython3",
   "version": "3.11.4"
  }
 },
 "nbformat": 4,
 "nbformat_minor": 2
}
