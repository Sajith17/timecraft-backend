{
 "cells": [
  {
   "cell_type": "code",
   "execution_count": 3,
   "metadata": {},
   "outputs": [],
   "source": [
    "from enum import Enum\n",
    "import json\n",
    "from typing import Optional, List\n",
    "from dataclasses import dataclass\n",
    "class CourseType(Enum):\n",
    "    CORE = \"Core\"\n",
    "    ELECTIVE = \"Elective\"\n",
    "    SHARED = \"Shared\""
   ]
  },
  {
   "cell_type": "code",
   "execution_count": 28,
   "metadata": {},
   "outputs": [],
   "source": [
    "class Course:\n",
    "    def __init__(self, name: str, courseType: CourseType, type : Optional[int] = None):\n",
    "        self.name = name\n",
    "        self.courseType = courseType\n",
    "        self.type = type\n",
    "    @classmethod\n",
    "    def from_json(cls, json_string):\n",
    "        json_dict = json.loads(json_string)\n",
    "        return cls(**json_dict)\n",
    "    "
   ]
  },
  {
   "cell_type": "code",
   "execution_count": 46,
   "metadata": {},
   "outputs": [],
   "source": [
    "class Event:\n",
    "    def __init__(self, name: str, group : Optional[str] = None):\n",
    "        self.name = name\n",
    "        self.group = group"
   ]
  },
  {
   "cell_type": "code",
   "execution_count": 47,
   "metadata": {},
   "outputs": [
    {
     "ename": "TypeError",
     "evalue": "cannot unpack non-iterable Event object",
     "output_type": "error",
     "traceback": [
      "\u001b[1;31m---------------------------------------------------------------------------\u001b[0m",
      "\u001b[1;31mTypeError\u001b[0m                                 Traceback (most recent call last)",
      "Cell \u001b[1;32mIn[47], line 1\u001b[0m\n\u001b[1;32m----> 1\u001b[0m name, group \u001b[38;5;241m=\u001b[39m Event(name\u001b[38;5;241m=\u001b[39m\u001b[38;5;124m\"\u001b[39m\u001b[38;5;124mhello\u001b[39m\u001b[38;5;124m\"\u001b[39m)\n\u001b[0;32m      2\u001b[0m \u001b[38;5;28mprint\u001b[39m(name,group)\n",
      "\u001b[1;31mTypeError\u001b[0m: cannot unpack non-iterable Event object"
     ]
    }
   ],
   "source": [
    "name, group = Event(name=\"hello\")\n",
    "print(name,group)"
   ]
  },
  {
   "cell_type": "code",
   "execution_count": 35,
   "metadata": {},
   "outputs": [
    {
     "data": {
      "text/plain": [
       "True"
      ]
     },
     "execution_count": 35,
     "metadata": {},
     "output_type": "execute_result"
    }
   ],
   "source": [
    "json_string = \"\"\"{\n",
    "    \"name\": \"Python\",\n",
    "    \"courseType\": \"Core\",\n",
    "    \"type\": 1\n",
    "}\"\"\"\n",
    "\n",
    "\n",
    "course = Course.from_json(json_string)\n",
    "bool(course.type)\n"
   ]
  },
  {
   "cell_type": "code",
   "execution_count": 50,
   "metadata": {},
   "outputs": [
    {
     "ename": "NameError",
     "evalue": "name 'Faculty' is not defined",
     "output_type": "error",
     "traceback": [
      "\u001b[1;31m---------------------------------------------------------------------------\u001b[0m",
      "\u001b[1;31mNameError\u001b[0m                                 Traceback (most recent call last)",
      "Cell \u001b[1;32mIn[50], line 2\u001b[0m\n\u001b[0;32m      1\u001b[0m \u001b[38;5;129;43m@dataclass\u001b[39;49m\n\u001b[1;32m----> 2\u001b[0m \u001b[38;5;28;43;01mclass\u001b[39;49;00m\u001b[43m \u001b[49m\u001b[38;5;21;43;01mEvent\u001b[39;49;00m\u001b[43m:\u001b[49m\n\u001b[0;32m      3\u001b[0m \u001b[43m    \u001b[49m\u001b[43mcourses\u001b[49m\u001b[43m:\u001b[49m\u001b[43m \u001b[49m\u001b[43mList\u001b[49m\u001b[43m[\u001b[49m\u001b[43mCourse\u001b[49m\u001b[43m]\u001b[49m\n\u001b[0;32m      4\u001b[0m \u001b[43m    \u001b[49m\u001b[43mfaculties\u001b[49m\u001b[43m:\u001b[49m\u001b[43m \u001b[49m\u001b[43mList\u001b[49m\u001b[43m[\u001b[49m\u001b[43mFaculty\u001b[49m\u001b[43m]\u001b[49m\n",
      "Cell \u001b[1;32mIn[50], line 4\u001b[0m, in \u001b[0;36mEvent\u001b[1;34m()\u001b[0m\n\u001b[0;32m      1\u001b[0m \u001b[38;5;129m@dataclass\u001b[39m\n\u001b[0;32m      2\u001b[0m \u001b[38;5;28;01mclass\u001b[39;00m \u001b[38;5;21;01mEvent\u001b[39;00m:\n\u001b[0;32m      3\u001b[0m     courses: List[Course]\n\u001b[1;32m----> 4\u001b[0m     faculties: List[\u001b[43mFaculty\u001b[49m]\n\u001b[0;32m      5\u001b[0m     hours: \u001b[38;5;28mint\u001b[39m\n\u001b[0;32m      6\u001b[0m     fixedHours: Optional[List[\u001b[38;5;28mint\u001b[39m]] \u001b[38;5;241m=\u001b[39m \u001b[38;5;28;01mNone\u001b[39;00m\n",
      "\u001b[1;31mNameError\u001b[0m: name 'Faculty' is not defined"
     ]
    }
   ],
   "source": [
    "@dataclass\n",
    "class Event:\n",
    "    courses: List[Course]\n",
    "    faculties: List[Faculty]\n",
    "    hours: int\n",
    "    fixedHours: Optional[List[int]] = None\n",
    "    studentGroup: str"
   ]
  },
  {
   "cell_type": "code",
   "execution_count": 4,
   "metadata": {},
   "outputs": [],
   "source": [
    "@dataclass\n",
    "class event:\n",
    "    name: str\n",
    "    group: Optional[List[int]] = None"
   ]
  },
  {
   "cell_type": "code",
   "execution_count": 6,
   "metadata": {},
   "outputs": [
    {
     "data": {
      "text/plain": [
       "event(name='name1', group=None)"
      ]
     },
     "execution_count": 6,
     "metadata": {},
     "output_type": "execute_result"
    }
   ],
   "source": [
    "d = {'name':'name1'}\n",
    "event(**d)"
   ]
  },
  {
   "cell_type": "code",
   "execution_count": 62,
   "metadata": {},
   "outputs": [],
   "source": [
    "import stringcase"
   ]
  },
  {
   "cell_type": "code",
   "execution_count": 11,
   "metadata": {},
   "outputs": [],
   "source": [
    "@dataclass\n",
    "class Name:\n",
    "    first: str\n",
    "    last: str\n",
    "\n",
    "    def concat(a,b)->list['Name']:\n",
    "        name1 = Name(a,b)\n",
    "        return [name1 for i in range(0,10)]\n"
   ]
  },
  {
   "cell_type": "code",
   "execution_count": 13,
   "metadata": {},
   "outputs": [
    {
     "data": {
      "text/plain": [
       "__main__.Name"
      ]
     },
     "execution_count": 13,
     "metadata": {},
     "output_type": "execute_result"
    }
   ],
   "source": [
    "type(Name.concat('hello','world')[0])"
   ]
  },
  {
   "cell_type": "code",
   "execution_count": 65,
   "metadata": {},
   "outputs": [
    {
     "data": {
      "text/plain": [
       "'hello__guys'"
      ]
     },
     "execution_count": 65,
     "metadata": {},
     "output_type": "execute_result"
    }
   ],
   "source": [
    "getattr(stringcase, \"snakecase\")(\"Hello Guys\")"
   ]
  },
  {
   "cell_type": "code",
   "execution_count": 10,
   "metadata": {},
   "outputs": [
    {
     "data": {
      "text/plain": [
       "types.GenericAlias"
      ]
     },
     "execution_count": 10,
     "metadata": {},
     "output_type": "execute_result"
    }
   ],
   "source": [
    "type(list['hello'])"
   ]
  },
  {
   "cell_type": "code",
   "execution_count": 21,
   "metadata": {},
   "outputs": [
    {
     "ename": "ModuleNotFoundError",
     "evalue": "No module named 'src'",
     "output_type": "error",
     "traceback": [
      "\u001b[1;31m---------------------------------------------------------------------------\u001b[0m",
      "\u001b[1;31mModuleNotFoundError\u001b[0m                       Traceback (most recent call last)",
      "Cell \u001b[1;32mIn[21], line 1\u001b[0m\n\u001b[1;32m----> 1\u001b[0m \u001b[38;5;28;01mfrom\u001b[39;00m \u001b[38;5;21;01msrc\u001b[39;00m\u001b[38;5;21;01m.\u001b[39;00m\u001b[38;5;21;01mtimecraft\u001b[39;00m\u001b[38;5;21;01m.\u001b[39;00m\u001b[38;5;21;01mutils\u001b[39;00m \u001b[38;5;28;01mimport\u001b[39;00m convert_keys\n",
      "\u001b[1;31mModuleNotFoundError\u001b[0m: No module named 'src'"
     ]
    }
   ],
   "source": [
    "from src.timecraft.utils import convert_keys"
   ]
  },
  {
   "cell_type": "code",
   "execution_count": 1,
   "metadata": {},
   "outputs": [
    {
     "data": {
      "text/plain": [
       "{1, 2}"
      ]
     },
     "execution_count": 1,
     "metadata": {},
     "output_type": "execute_result"
    }
   ],
   "source": [
    "set(x for x in [1,1,1,1,2])"
   ]
  },
  {
   "cell_type": "code",
   "execution_count": null,
   "metadata": {},
   "outputs": [],
   "source": [
    "data_helper = DataHelper(events)\n",
    "constraints = [Constraints1(), Constaints2(), Constraints3()]\n",
    "fitness_evaluator = FitnessEvaluator(data_helper, constraints)\n",
    "population = Population(data_helper)\n",
    "genetic_algorithm = GeneticAlgorithm(data_helper, population, fitness_evaluator, mutation_rate=0.1, crossover_rate=0.9)\n",
    "final_timetable = genetic_algorithm.run_evolution(population_size=100, generation_limit=100, fitness_limit=1)"
   ]
  },
  {
   "cell_type": "code",
   "execution_count": null,
   "metadata": {},
   "outputs": [],
   "source": [
    "'''This is in constraint.py'''\n",
    "from abc import ABC, abstractmethod\n",
    "class Constraint(ABC):\n",
    "    def __init__(self, constraint_type: str):\n",
    "        self.constraint_type = constraint_type\n",
    "    @abstractmethod\n",
    "    def get_fitness_score():\n",
    "        pass\n",
    "\n",
    "class Constraint1(Constraint):\n",
    "    def __init__(self, datahelper):\n",
    "        super.__init__(constraint_type=\"hard\")\n",
    "        ''' here the necessary helper variable are obtained by using .variable from the datahelper where the nedded variable differ from constraints '''\n",
    "    def get_fitness_score(self) -> float:\n",
    "        ''' the calculation is done for constraint 1'''\n",
    "    def validate(self) -> bool:\n",
    "        '''validates constraint 2'''\n",
    "\n",
    "class Constraint2(Constraint):\n",
    "    def __init__(self, datahelper):\n",
    "        super.__init__(constraint_type=\"soft\")\n",
    "        ''' here the necessary helper variable are obtained by using .variable from the datahelper where the nedded variable differ from constraints '''\n",
    "    def get_fitness_score(self) -> float:\n",
    "        ''' the calculation is done for constraint 2'''\n",
    "    def validate(self) -> bool:\n",
    "        '''validates constraint 2'''\n",
    "\n",
    "class FitnessEvaluator:\n",
    "    def __init__(self, constraints: list[Constraint]):\n",
    "        self.constraints = constraints\n",
    "    \n",
    "    def get_overall_fitness_score(self) -> float:\n",
    "        return sum(constraint.get_fitness_score() for constraint in self.constraints)\n",
    "    \n",
    "    def get_overall_validation(self) -> bool:\n",
    "        return all(Constraint.validate() for constraint in self.constraints)\n",
    "\n",
    "\n",
    "'''This code is in seperate py file'''\n",
    "\n",
    "\n",
    "import DataHelper\n",
    "\n",
    "data_helper = DataHelper(events)\n",
    "constraints = [Constraint1(data_helper), Constraint2(data_helper)]\n",
    "fitness_evaluator = FitnessEvaluator(constraints)\n",
    "fitness_score = fitness_evaluator.get_overall_fitness_score()"
   ]
  },
  {
   "cell_type": "code",
   "execution_count": null,
   "metadata": {},
   "outputs": [],
   "source": [
    "'''This is in constraint.py'''\n",
    "from abc import ABC, abstractmethod\n",
    "class Constraint(ABC):\n",
    "    def __init__(self, constraint_type: str):\n",
    "        self.constraint_type = constraint_type\n",
    "    @abstractmethod\n",
    "    def get_fitness_score():\n",
    "        pass\n",
    "\n",
    "    @abstractmethod\n",
    "    def validate():\n",
    "        pass\n",
    "\n",
    "class Constraint1(Constraint):\n",
    "    def __init__(self):\n",
    "        super.__init__(constraint_type=\"hard\")\n",
    "    def get_fitness_score(self, data_helper) -> float:\n",
    "        ''' the calculation is done for constraint 1 using datahelper object'''\n",
    "    def validate(self, datahelper) -> bool:\n",
    "        '''validate constraint 1'''\n",
    "\n",
    "class Constraint2(Constraint):\n",
    "    def __init__(self, datahelper):\n",
    "        super.__init__(constraint_type=\"soft\")\n",
    "        ''' here the necessary helper variable are obtained by using .variable from the datahelper where the nedded variable differ from constraints '''\n",
    "    def get_fitness_score(self, data_helper) -> float:\n",
    "        ''' the calculation is done for constraint 2 using datahelper object'''\n",
    "    def validate(self, data_helper) -> bool:\n",
    "        '''validates constraint 2'''\n",
    "\n",
    "class FitnessEvaluator:\n",
    "    def __init__(self, constraints: list[Constraint]):\n",
    "        self.constraints = constraints\n",
    "    \n",
    "    def get_overall_fitness_score(self, data_helper) -> float:\n",
    "        return sum(constraint.get_fitness_score(data_helper) for constraint in self.constraints)\n",
    "    \n",
    "    def get_overall_validation(self, data_helper) -> float:\n",
    "        return all(Constraint.validate(data_helper) for constraint in self.constraints)\n",
    "\n",
    "\n",
    "'''This code is in seperate py file'''\n",
    "\n",
    "\n",
    "import DataHelper\n",
    "\n",
    "data_helper = DataHelper(events)\n",
    "constraints = [Constraint1(), Constraint2()]\n",
    "fitness_evaluator = FitnessEvaluator(constraints)\n",
    "fitness_score = fitness_evaluator.get_overall_fitness_score(data_helper)"
   ]
  },
  {
   "cell_type": "code",
   "execution_count": 21,
   "metadata": {},
   "outputs": [
    {
     "data": {
      "text/plain": [
       "array([[1, 2, 3],\n",
       "       [4, 1, 6],\n",
       "       [7, 8, 1]])"
      ]
     },
     "execution_count": 21,
     "metadata": {},
     "output_type": "execute_result"
    }
   ],
   "source": [
    "import numpy as np\n",
    "\n",
    "x = np.array([[0,2,3],[4,0,6],[7,8,0]])\n",
    "y = np.array([[1,1,1]])\n",
    "1-np.minimum(x,1)+x"
   ]
  },
  {
   "cell_type": "code",
   "execution_count": 28,
   "metadata": {},
   "outputs": [
    {
     "ename": "KeyError",
     "evalue": "'key'",
     "output_type": "error",
     "traceback": [
      "\u001b[1;31m---------------------------------------------------------------------------\u001b[0m",
      "\u001b[1;31mKeyError\u001b[0m                                  Traceback (most recent call last)",
      "Cell \u001b[1;32mIn[28], line 2\u001b[0m\n\u001b[0;32m      1\u001b[0m target \u001b[38;5;241m=\u001b[39m {}\n\u001b[1;32m----> 2\u001b[0m \u001b[38;5;28;01mif\u001b[39;00m \u001b[43mtarget\u001b[49m\u001b[43m[\u001b[49m\u001b[38;5;124;43m'\u001b[39;49m\u001b[38;5;124;43mkey\u001b[39;49m\u001b[38;5;124;43m'\u001b[39;49m\u001b[43m]\u001b[49m \u001b[38;5;241m==\u001b[39m \u001b[38;5;124m'\u001b[39m\u001b[38;5;124mvalue\u001b[39m\u001b[38;5;124m'\u001b[39m:\n\u001b[0;32m      3\u001b[0m     \u001b[38;5;28mprint\u001b[39m(\u001b[38;5;124m'\u001b[39m\u001b[38;5;124mhi\u001b[39m\u001b[38;5;124m'\u001b[39m)\n",
      "\u001b[1;31mKeyError\u001b[0m: 'key'"
     ]
    }
   ],
   "source": [
    "target = {}\n",
    "if target['key'] == 'value':\n",
    "    print('hi')"
   ]
  },
  {
   "cell_type": "code",
   "execution_count": 4,
   "metadata": {},
   "outputs": [],
   "source": [
    "import numpy as np\n",
    "def permute_with_frequencies(elements, frequencies):\n",
    "  \"\"\"\n",
    "  Generates a permutation of elements with specified frequencies.\n",
    "\n",
    "  Args:\n",
    "    elements: A list of elements.\n",
    "    frequencies: A list of corresponding frequencies for each element.\n",
    "\n",
    "  Returns:\n",
    "    A NumPy array representing a single permutation with the specified frequencies.\n",
    "  \"\"\"\n",
    "\n",
    "  # Flatten frequencies and elements if needed\n",
    "  frequencies = np.array(frequencies).flatten()\n",
    "  elements = np.array(elements).flatten()\n",
    "\n",
    "  # Create a repeated array of elements based on their frequencies\n",
    "  repeated_elements = np.repeat(elements, frequencies)\n",
    "\n",
    "  # Shuffle the repeated elements\n",
    "  np.random.shuffle(repeated_elements)\n",
    "\n",
    "  return repeated_elements"
   ]
  },
  {
   "cell_type": "code",
   "execution_count": 6,
   "metadata": {},
   "outputs": [
    {
     "data": {
      "text/plain": [
       "array([Class(course=Course(code='CS101', faculties=[Faculty(code='CS1', name='Computer Science', occupied_slots=None), Faculty(code='CS2', name='Computer Science', occupied_slots=None)], no_hours=6, student_group='A', name='Computer Science 1', faculty_hour_split=[4, 2]), faculties=[Faculty(code='CS1', name='Computer Science', occupied_slots=None)]),\n",
       "       Class(course=Course(code='CS101', faculties=[Faculty(code='CS1', name='Computer Science', occupied_slots=None), Faculty(code='CS2', name='Computer Science', occupied_slots=None)], no_hours=6, student_group='A', name='Computer Science 1', faculty_hour_split=[4, 2]), faculties=[Faculty(code='CS2', name='Computer Science', occupied_slots=None)]),\n",
       "       Class(course=Course(code='CS101', faculties=[Faculty(code='CS1', name='Computer Science', occupied_slots=None), Faculty(code='CS2', name='Computer Science', occupied_slots=None)], no_hours=6, student_group='A', name='Computer Science 1', faculty_hour_split=[4, 2]), faculties=[Faculty(code='CS2', name='Computer Science', occupied_slots=None)])],\n",
       "      dtype=object)"
      ]
     },
     "execution_count": 6,
     "metadata": {},
     "output_type": "execute_result"
    }
   ],
   "source": [
    "from src.timecraft.models import Class, Course, Faculty\n",
    "course = Course(\n",
    "            code=\"CS101\",\n",
    "            name=\"Computer Science 1\",\n",
    "            no_hours=6,\n",
    "            student_group=\"A\",\n",
    "            faculties=[\n",
    "                Faculty(code=\"CS1\", name=\"Computer Science\"),\n",
    "                Faculty(code=\"CS2\", name=\"Computer Science\"),\n",
    "            ],\n",
    "            faculty_hour_split=[4, 2],\n",
    "        )\n",
    "cls1 = Class(course=course, faculties=[course.faculties[0]])\n",
    "cls2 = Class(course=course, faculties=[course.faculties[1]])\n",
    "\n",
    "permute_with_frequencies([cls1, cls2],[1,2])"
   ]
  }
 ],
 "metadata": {
  "kernelspec": {
   "display_name": "Python 3",
   "language": "python",
   "name": "python3"
  },
  "language_info": {
   "codemirror_mode": {
    "name": "ipython",
    "version": 3
   },
   "file_extension": ".py",
   "mimetype": "text/x-python",
   "name": "python",
   "nbconvert_exporter": "python",
   "pygments_lexer": "ipython3",
   "version": "3.11.4"
  }
 },
 "nbformat": 4,
 "nbformat_minor": 2
}
